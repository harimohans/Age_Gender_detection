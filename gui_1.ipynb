{
 "cells": [
  {
   "cell_type": "markdown",
   "id": "7aa652b8-ceef-41b5-8f7b-dd69b93d09a6",
   "metadata": {},
   "source": [
    "**Importing necessary libraries**"
   ]
  },
  {
   "cell_type": "code",
   "execution_count": 13,
   "id": "88b9f7db-a97b-48af-bd63-2bfb5169458e",
   "metadata": {},
   "outputs": [],
   "source": [
    "import tkinter as tk\n",
    "from tkinter import filedialog\n",
    "from tkinter import *\n",
    "from PIL import Image,ImageTk\n",
    "import numpy\n",
    "import numpy as np"
   ]
  },
  {
   "cell_type": "markdown",
   "id": "274e81cd-c67e-434d-bc53-7363edcd0d37",
   "metadata": {},
   "source": [
    "**Loading the model**"
   ]
  },
  {
   "cell_type": "code",
   "execution_count": 14,
   "id": "4a110c52-7425-46a0-8b90-41065dbfb5f3",
   "metadata": {},
   "outputs": [],
   "source": [
    "from keras.models import load_model\n",
    "model = load_model('Age_Sex_Detectionn.keras')"
   ]
  },
  {
   "cell_type": "code",
   "execution_count": 15,
   "id": "486653e7-01f7-4f08-8132-27a33ba548b3",
   "metadata": {},
   "outputs": [
    {
     "data": {
      "text/plain": [
       "<Functional name=functional_2, built=True>"
      ]
     },
     "execution_count": 15,
     "metadata": {},
     "output_type": "execute_result"
    }
   ],
   "source": [
    "model"
   ]
  },
  {
   "cell_type": "markdown",
   "id": "14b8e33b-19a6-455a-8d50-843a06c03e0f",
   "metadata": {},
   "source": [
    "**Initializing the GUI**"
   ]
  },
  {
   "cell_type": "code",
   "execution_count": 16,
   "id": "7cea6749-377c-414c-b8e7-5dbca8ec7dc6",
   "metadata": {},
   "outputs": [],
   "source": [
    "top = tk.Tk()\n",
    "top.geometry('800x600')\n",
    "top.title('Age & Gender Detector')\n",
    "top.configure(background='#CDCDCD')"
   ]
  },
  {
   "cell_type": "markdown",
   "id": "87c6a21b-bc05-4c4d-94c5-d7d39c5a53cd",
   "metadata": {},
   "source": [
    "**Initializing the labels**"
   ]
  },
  {
   "cell_type": "code",
   "execution_count": 17,
   "id": "588b67c6-da5b-443d-aa81-15b287b15ae7",
   "metadata": {},
   "outputs": [],
   "source": [
    "label1 = Label(top,background='#CDCDCD',font=('arial',15,'bold'))\n",
    "label2 = Label(top,background='#CDCDCD',font=('arial',15,'bold'))\n",
    "sign_image=Label(top)"
   ]
  },
  {
   "cell_type": "markdown",
   "id": "79d33dc2-3632-4261-9942-edf0f5d31af0",
   "metadata": {},
   "source": [
    "**Defining Detect function which detects the age and gender of the person in image using the model**"
   ]
  },
  {
   "cell_type": "code",
   "execution_count": 18,
   "id": "1b225086-a005-4f3f-8042-7a1eec3a602a",
   "metadata": {},
   "outputs": [],
   "source": [
    "def Detect(file_path):\n",
    "    global label_packed\n",
    "    image=Image.open(file_path)\n",
    "    image=image.resize((48,48))\n",
    "    image=numpy.expand_dims(image,axis=0)\n",
    "    image=np.array(image)\n",
    "    image=np.delete(image,0,1)\n",
    "    image=np.resize(image,(48,48,3))\n",
    "    print(image.shape)\n",
    "    sex_f = ['Male','Female']\n",
    "    image=np.array([image])/255\n",
    "    pred=model.predict(image)\n",
    "    age=int(np.round(pred[1][0]))\n",
    "    sex=int(np.round(pred[0][0]))\n",
    "    print('Predicted Age is '+ str(age))\n",
    "    print('Predicted Gender is ' + sex_f[sex])\n",
    "    print('hello how are you')\n",
    "    label1.configure(foreground='#011638',text=age)\n",
    "    label2.configure(foreground='#011638',text=sex_f[sex])\n",
    "    "
   ]
  },
  {
   "cell_type": "code",
   "execution_count": null,
   "id": "4e2ac40d-2b04-4d5b-b395-bc3ef96e7b72",
   "metadata": {},
   "outputs": [],
   "source": []
  },
  {
   "cell_type": "markdown",
   "id": "58541366-9382-4701-b322-dabb491b198c",
   "metadata": {},
   "source": [
    "**Defining Show_detect button function**"
   ]
  },
  {
   "cell_type": "code",
   "execution_count": 19,
   "id": "a06859e9-6409-4168-8465-baa80e15fffc",
   "metadata": {},
   "outputs": [],
   "source": [
    "def show_Detect_button(file_path):\n",
    "    Detect_b=Button(top,text='Detect Image',command=lambda: Detect(file_path),padx=10,pady=5)\n",
    "    Detect_b.configure(background='#364156',foreground='white',font=('arial',10,'bold'))\n",
    "    Detect_b.place(relx=0.79,rely=0.46)"
   ]
  },
  {
   "cell_type": "markdown",
   "id": "e5e6414c-4108-46d9-96b5-eb26dcb36a7f",
   "metadata": {},
   "source": [
    "**Defining Upload Image function**"
   ]
  },
  {
   "cell_type": "code",
   "execution_count": 20,
   "id": "d0ca2aca-3bea-4995-a1a1-dc791e5836fe",
   "metadata": {},
   "outputs": [
    {
     "name": "stdout",
     "output_type": "stream",
     "text": [
      "(48, 48, 3)\n",
      "\u001b[1m1/1\u001b[0m \u001b[32m━━━━━━━━━━━━━━━━━━━━\u001b[0m\u001b[37m\u001b[0m \u001b[1m0s\u001b[0m 91ms/step\n",
      "Predicted Age is 65\n",
      "Predicted Gender is Male\n",
      "hello how are you\n"
     ]
    },
    {
     "name": "stderr",
     "output_type": "stream",
     "text": [
      "C:\\Users\\harrr\\AppData\\Local\\Temp\\ipykernel_15612\\3054634068.py:13: DeprecationWarning: Conversion of an array with ndim > 0 to a scalar is deprecated, and will error in future. Ensure you extract a single element from your array before performing this operation. (Deprecated NumPy 1.25.)\n",
      "  age=int(np.round(pred[1][0]))\n",
      "C:\\Users\\harrr\\AppData\\Local\\Temp\\ipykernel_15612\\3054634068.py:14: DeprecationWarning: Conversion of an array with ndim > 0 to a scalar is deprecated, and will error in future. Ensure you extract a single element from your array before performing this operation. (Deprecated NumPy 1.25.)\n",
      "  sex=int(np.round(pred[0][0]))\n"
     ]
    }
   ],
   "source": [
    "def upload_image():\n",
    "    try:\n",
    "        file_path=filedialog.askopenfilename()\n",
    "        uploaded=Image.open(file_path)\n",
    "        uploaded.thumbnail(((top.winfo_width()/2.25),(top.winfo_height()/2.25)))\n",
    "        im=ImageTk.PhotoImage(uploaded)\n",
    "\n",
    "        sign_image.configure(image=im)\n",
    "        sign_image.image=im\n",
    "        label1.configure(text='')\n",
    "        label2.configure(text='')\n",
    "        show_Detect_button(file_path)\n",
    "    except:\n",
    "        pass\n",
    "upload=Button(top,text='Upload an Image',command=upload_image,padx=10,pady=5)\n",
    "upload.configure(background='#364156',foreground='white',font=('arial',10,'bold'))\n",
    "upload.pack(side='bottom',pady=50)\n",
    "sign_image.pack(side='bottom',expand=True)\n",
    "label1.pack(side='bottom',expand=True)\n",
    "label2.pack(side='bottom',expand=True)\n",
    "heading=Label(top,text='Age and Gender Detector',pady=20,font=('arial',20,'bold'))\n",
    "heading.configure(background='#CDCDCD',foreground='#364156')\n",
    "heading.pack()\n",
    "top.mainloop()"
   ]
  },
  {
   "cell_type": "code",
   "execution_count": null,
   "id": "753de842-9f16-4781-a563-ef30008db434",
   "metadata": {},
   "outputs": [],
   "source": []
  },
  {
   "cell_type": "code",
   "execution_count": null,
   "id": "1265a636-033b-4d48-96f7-40c5db034ef0",
   "metadata": {},
   "outputs": [],
   "source": []
  }
 ],
 "metadata": {
  "kernelspec": {
   "display_name": "Python 3 (ipykernel)",
   "language": "python",
   "name": "python3"
  },
  "language_info": {
   "codemirror_mode": {
    "name": "ipython",
    "version": 3
   },
   "file_extension": ".py",
   "mimetype": "text/x-python",
   "name": "python",
   "nbconvert_exporter": "python",
   "pygments_lexer": "ipython3",
   "version": "3.11.7"
  }
 },
 "nbformat": 4,
 "nbformat_minor": 5
}
